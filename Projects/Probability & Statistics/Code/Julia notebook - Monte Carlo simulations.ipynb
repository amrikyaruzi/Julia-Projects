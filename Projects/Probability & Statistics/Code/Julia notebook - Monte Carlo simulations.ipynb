{
 "cells": [
  {
   "cell_type": "code",
   "execution_count": 50,
   "id": "1cba2a97",
   "metadata": {},
   "outputs": [],
   "source": [
    "#using Pkg; Pkg.add(\"Pipe\")"
   ]
  },
  {
   "cell_type": "code",
   "execution_count": 51,
   "id": "82f4819b",
   "metadata": {},
   "outputs": [],
   "source": [
    "using Distributions\n",
    "using Distributed\n",
    "using Random\n",
    "using StatsBase\n",
    "using Base.Threads\n",
    "using BenchmarkTools\n",
    "using Tidier\n",
    "using Pipe: @pipe"
   ]
  },
  {
   "cell_type": "markdown",
   "id": "bbe31754",
   "metadata": {},
   "source": [
    "Using Random Normal Distribution"
   ]
  },
  {
   "cell_type": "code",
   "execution_count": 52,
   "id": "f2a554c9",
   "metadata": {},
   "outputs": [],
   "source": [
    "# Basic\n",
    "function max_length_of_runs()\n",
    "    flips = rand([\"H\", \"T\"], 100)\n",
    "    lengths_rle = StatsBase.rle(flips)\n",
    "    return maximum(lengths_rle[2])\n",
    "end\n",
    "\n",
    "num_simulations = 1_000_000\n",
    "max_lengths = [max_length_of_runs() for _ in 1:num_simulations]\n",
    "mean_length = mean(max_lengths)\n",
    "println(mean_length)"
   ]
  },
  {
   "cell_type": "code",
   "execution_count": 53,
   "id": "bfbe867c",
   "metadata": {},
   "outputs": [
    {
     "name": "stdout",
     "output_type": "stream",
     "text": [
      "6.979358\n"
     ]
    }
   ],
   "source": [
    "# Using multithreading\n",
    "function max_length_of_runs()\n",
    "    flips = rand([\"H\", \"T\"], 100)\n",
    "    lengths_rle = StatsBase.rle(flips)\n",
    "    return maximum(lengths_rle[2])\n",
    "end\n",
    "\n",
    "num_simulations = 1_000_000\n",
    "\n",
    "# Run simulations in parallel using multithreading\n",
    "max_lengths = Vector{Int}(undef, num_simulations)\n",
    "@threads for i in 1:num_simulations\n",
    "    max_lengths[i] = max_length_of_runs()\n",
    "end\n",
    "\n",
    "mean_length = mean(max_lengths)\n",
    "println(mean_length)"
   ]
  },
  {
   "cell_type": "markdown",
   "id": "bcedee68",
   "metadata": {},
   "source": [
    "Using Binomial Distribution"
   ]
  },
  {
   "cell_type": "code",
   "execution_count": 54,
   "id": "c4641f55",
   "metadata": {},
   "outputs": [
    {
     "name": "stdout",
     "output_type": "stream",
     "text": [
      "6.9770511\n"
     ]
    }
   ],
   "source": [
    "# Basic\n",
    "function max_length_of_runs()\n",
    "    flips = rand(Distributions.Binomial(1, 0.5), 100)\n",
    "    lengths_rle = StatsBase.rle(flips)\n",
    "    return maximum(lengths_rle[2])\n",
    "end\n",
    "\n",
    "num_simulations = 10_000_000\n",
    "max_lengths = [max_length_of_runs() for _ in 1:num_simulations]\n",
    "mean_length = mean(max_lengths)\n",
    "println(mean_length)"
   ]
  },
  {
   "cell_type": "code",
   "execution_count": null,
   "id": "2227f4c3",
   "metadata": {},
   "outputs": [],
   "source": [
    "# Using multithreading\n",
    "function max_length_of_runs()\n",
    "    flips = rand(Distributions.Binomial(1, 0.5), 100)\n",
    "    lengths_rle = StatsBase.rle(flips)\n",
    "    return maximum(lengths_rle[2])\n",
    "end\n",
    "\n",
    "num_simulations = 10_000_000\n",
    "\n",
    "# Run simulations in parallel using multithreading\n",
    "max_lengths = Vector{Int}(undef, num_simulations)\n",
    "@threads for i in 1:num_simulations # Threads.@threads for i in 1:num_simulations\n",
    "    max_lengths[i] = max_length_of_runs()\n",
    "end\n",
    "\n",
    "mean_length = mean(max_lengths)\n",
    "println(mean_length)"
   ]
  },
  {
   "cell_type": "code",
   "execution_count": null,
   "id": "767b2bc5",
   "metadata": {},
   "outputs": [],
   "source": [
    "@chain max_lengths begin\n",
    "    sort!(_, rev = true)\n",
    "    @distinct\n",
    "    #_[1:10]\n",
    "end"
   ]
  },
  {
   "cell_type": "code",
   "execution_count": 49,
   "id": "3b805840",
   "metadata": {},
   "outputs": [
    {
     "data": {
      "text/plain": [
       "10-element Vector{Int64}:\n",
       " 27\n",
       " 27\n",
       " 27\n",
       " 26\n",
       " 25\n",
       " 25\n",
       " 25\n",
       " 25\n",
       " 25\n",
       " 25"
      ]
     },
     "metadata": {},
     "output_type": "display_data"
    }
   ],
   "source": [
    "# Pipe\n",
    "max_lengths |>\n",
    "(x -> begin\n",
    "    x_sorted = sort(x, rev=true)\n",
    "    x_sorted[1:10]\n",
    "end)\n"
   ]
  },
  {
   "cell_type": "code",
   "execution_count": null,
   "id": "eea0de72",
   "metadata": {},
   "outputs": [],
   "source": []
  }
 ],
 "metadata": {
  "kernelspec": {
   "display_name": "Julia 1.10.2",
   "language": "julia",
   "name": "julia-1.10"
  },
  "language_info": {
   "file_extension": ".jl",
   "mimetype": "application/julia",
   "name": "julia",
   "version": "1.10.2"
  }
 },
 "nbformat": 4,
 "nbformat_minor": 5
}
